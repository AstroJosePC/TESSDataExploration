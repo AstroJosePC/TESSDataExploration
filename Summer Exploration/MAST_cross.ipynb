{
 "cells": [
  {
   "cell_type": "code",
   "execution_count": 24,
   "metadata": {},
   "outputs": [],
   "source": [
    "from astropy.io import ascii\n",
    "import astropy.units as u"
   ]
  },
  {
   "cell_type": "code",
   "execution_count": 2,
   "metadata": {},
   "outputs": [
    {
     "name": "stderr",
     "output_type": "stream",
     "text": [
      "WARNING: OverflowError converting to IntType in column Gaia_DR2_ID, reverting to String. [astropy.io.ascii.fastbasic]\n",
      "WARNING: OverflowError converting to IntType in column GAIA, reverting to String. [astropy.io.ascii.fastbasic]\n"
     ]
    }
   ],
   "source": [
    "# Import target list\n",
    "data = ascii.read(\"IC2391_targets.csv\")\n",
    "data.rename_column('Gaia_DR2_ID', 'GAIA')\n",
    "\n",
    "# Import target list with TIC id; originally called MatchID\n",
    "cross = ascii.read(\"MAST_Crossmatch_TIC.csv\")\n",
    "cross.rename_column('MatchID', 'TIC_ID')"
   ]
  },
  {
   "cell_type": "markdown",
   "metadata": {},
   "source": [
    "Cross table is actually bigger than the original target's file. The radius search might be a bit too big for the matching (~ 5''). \n",
    "\n",
    "In order to make sure that we got the targets that we want, I can mask out the rows in _cross_ table that don't match GAIA id's with the original target table."
   ]
  },
  {
   "cell_type": "code",
   "execution_count": 3,
   "metadata": {},
   "outputs": [
    {
     "data": {
      "text/plain": [
       "<Table masked=True length=118>\n",
       "   name    dtype \n",
       "--------- -------\n",
       "  RAJ2000 float64\n",
       " DecJ2000 float64\n",
       "     pmRA float64\n",
       "    pmDec float64\n",
       "        R float64\n",
       "        G float64\n",
       "        J float64\n",
       "        H float64\n",
       "        K float64\n",
       "   TIC ID   int32\n",
       "     Tmag float64\n",
       "dstArcSec float64\n",
       "  TWOMASS   str16\n",
       "     GAIA   str19\n",
       "  POSflag    str7\n",
       "     Teff float64\n",
       "   e_Teff float64\n",
       "     logg float64\n",
       "   e_logg float64\n",
       "      rad float64\n",
       "    e_rad float64\n",
       "     mass float64\n",
       "   e_mass float64\n",
       "      rho float64\n",
       "    e_rho float64\n",
       " lumclass    str5\n",
       "      lum float64\n",
       "    e_lum float64\n",
       "        d float64\n",
       "      e_d float64\n",
       "      ebv float64\n",
       "    e_ebv float64"
      ]
     },
     "execution_count": 3,
     "metadata": {},
     "output_type": "execute_result"
    }
   ],
   "source": [
    "# Make sure that GAIA id's match!\n",
    "gaia_ids = data['GAIA']\n",
    "\n",
    "mask = []\n",
    "for i, gid in enumerate(cross['GAIA']):\n",
    "    if gid in gaia_ids:\n",
    "        mask.append(i)\n",
    "        \n",
    "targets = cross[mask]\n",
    "targets.info"
   ]
  },
  {
   "cell_type": "code",
   "execution_count": null,
   "metadata": {},
   "outputs": [],
   "source": [
    "# Write out new table\n",
    "targets.write('targets_tic_id.csv', delimiter=',', overwrite=True, comment='#')"
   ]
  }
 ],
 "metadata": {
  "kernelspec": {
   "display_name": "Python 3",
   "language": "python",
   "name": "python3"
  },
  "language_info": {
   "codemirror_mode": {
    "name": "ipython",
    "version": 3
   },
   "file_extension": ".py",
   "mimetype": "text/x-python",
   "name": "python",
   "nbconvert_exporter": "python",
   "pygments_lexer": "ipython3",
   "version": "3.7.3"
  }
 },
 "nbformat": 4,
 "nbformat_minor": 2
}
